{
 "cells": [
  {
   "cell_type": "code",
   "execution_count": 1,
   "id": "3cb59ccc-9dfa-4ec5-b1b7-9d7a9847a1ea",
   "metadata": {},
   "outputs": [],
   "source": [
    "import numpy as np\n",
    "import pandas as pd\n",
    "from sklearn.model_selection import train_test_split\n",
    "from sklearn.preprocessing import StandardScaler"
   ]
  },
  {
   "cell_type": "code",
   "execution_count": 24,
   "id": "db80a551-d29c-4484-8644-90b8a176d52b",
   "metadata": {},
   "outputs": [],
   "source": [
    "# Re-loading the data from the provided file\n",
    "data_recheck = pd.read_excel('Classification_collection.xlsx', sheet_name='A')# chance to ('Skin',')\n"
   ]
  },
  {
   "cell_type": "code",
   "execution_count": 81,
   "id": "642ece78-0400-408d-af8d-730f2b0d9279",
   "metadata": {},
   "outputs": [],
   "source": [
    "test= pd.read_excel('Classification_collection.xlsx', sheet_name='T')"
   ]
  },
  {
   "cell_type": "code",
   "execution_count": 57,
   "id": "d2be71c3-0229-4f03-943a-c56338a281c9",
   "metadata": {},
   "outputs": [],
   "source": [
    "# df = data_recheck\n",
    "# t= df.iloc[:,615:715]\n",
    "# dp = df.iloc[:,515:615]\n",
    "# target = df.iloc[:,0]"
   ]
  },
  {
   "cell_type": "code",
   "execution_count": 56,
   "id": "90f06522-24af-47fa-8c81-3794526bab1c",
   "metadata": {},
   "outputs": [],
   "source": [
    "# # Initialize an empty dataframe for the result\n",
    "# result = pd.DataFrame()\n",
    "\n",
    "# # Get the list of columns from df1 and df2\n",
    "# columns1 = t.columns\n",
    "# columns2 = dp.columns\n",
    "\n",
    "# # Iterate over the columns and combine them alternately\n",
    "# for col1, col2 in zip(columns1, columns2):\n",
    "#     result[col1] = t[col1]\n",
    "#     result[col2] = dp[col2]"
   ]
  },
  {
   "cell_type": "code",
   "execution_count": 55,
   "id": "d283b1b4-2749-47c2-b842-4abce275593a",
   "metadata": {},
   "outputs": [],
   "source": [
    "# result.head()\n",
    "# # Add the target column\n",
    "# result['target'] = df.iloc[:,0]"
   ]
  },
  {
   "cell_type": "code",
   "execution_count": 54,
   "id": "bb689bc0-8ad0-4349-b86f-1b4873c87e3b",
   "metadata": {},
   "outputs": [],
   "source": [
    "# result\n",
    "# result.to_excel('organised_data_1.xlsx', index=False)"
   ]
  },
  {
   "cell_type": "code",
   "execution_count": 53,
   "id": "5a5757d8-3397-4737-be52-0792911ee544",
   "metadata": {},
   "outputs": [],
   "source": [
    "# # Get df values\n",
    "# X = result.values\n",
    "# X[X==0] = 1e-5\n",
    "\n",
    "# X_train_base, X_t_base = train_test_split(X, test_size=0.2, random_state=100, shuffle=True)\n",
    "# X_test_base, X_val_base = train_test_split(X_t_base, test_size=0.05, random_state=50, shuffle=True)\n",
    "\n",
    "\n",
    "# scaler_in = StandardScaler()\n",
    "# scaler_out = StandardScaler()\n",
    "\n",
    "# train_in = scaler_in.fit_transform((X_train_base[:,:200].astype(float)))\n",
    "# train_out = (X_train_base[:, -1].astype(int)) -1\n",
    "\n",
    "# test_in = scaler_in.fit_transform((X_test_base[:,:200].astype(float)))\n",
    "# test_out = (X_test_base[:, -1].astype(int)) -1\n",
    "\n",
    "# val_in = scaler_in.fit_transform((X_val_base[:,:200].astype(float)))\n",
    "# val_out = (X_val_base[:, -1].astype(int)) -1\n",
    "\n",
    "# # 1D\n",
    "# train_sets1 = [train_in, train_out] # can add the lebel to the array \",train_label\"\n",
    "# test_sets1  = [test_in, test_out]\n",
    "# val_sets1  = [val_in, val_out]"
   ]
  },
  {
   "cell_type": "code",
   "execution_count": 101,
   "id": "9eec0060-ca03-4fd7-9226-6f533c76f157",
   "metadata": {},
   "outputs": [],
   "source": [
    "# Get df values\n",
    "X = data_recheck.values\n",
    "X[X==0] = 1e-5\n",
    "\n",
    "\n",
    "\n",
    "X_train_base, X_test_base = train_test_split(X, test_size=0.2, random_state=100, shuffle=True)\n",
    "X_train_base, X_val_base = train_test_split(X_train_base, test_size=0.05, random_state=50, shuffle=True)\n",
    "\n",
    "# Normalization\n",
    "# Standardize the training input data\n",
    "scaler_t = StandardScaler()\n",
    "scaler_p = StandardScaler()\n",
    "scaler_dp = StandardScaler()\n",
    "\n",
    "# Create and normalize train datasets for 1D\n",
    "list = [0] # Labels index\n",
    "num_time_steps = 100\n",
    "norm_log_t_train = scaler_t.fit_transform((X_train_base[:,315:415].astype(float)))\n",
    "norm_log_p_train = scaler_p.fit_transform((X_train_base[:,415:515].astype(float)))\n",
    "norm_log_dp_train = scaler_dp.fit_transform((X_train_base[:,515:615].astype(float))) # only this column was required \n",
    "norm_target_train = (X_train_base[:, list].astype(int))\n",
    "\n",
    "# Discard time, normalize logP, logdP for 2D\n",
    "X_train = np.stack([norm_log_p_train,   norm_log_dp_train], axis=2)  # Stacking 'dp' and 'derp'\n",
    "X_train_reshaped = X_train.reshape(-1, num_time_steps, 2)\n",
    "train_label = norm_target_train -1\n",
    "\n",
    "X_train_1 =  norm_log_dp_train# np.hstack([ norm_log_t_train, norm_log_dp_train])#norm_log_p_train, norm_log_t_train,\n",
    "#X_train_1 = X_train_1.reshape((X_train_1.shape[0], X_train_1.shape[1], 1))\n",
    "train_label = norm_target_train -1\n",
    "\n",
    "# Create and normalize test datasets 1D\n",
    "norm_t_test = scaler_t.transform((X_test_base[:,315:415].astype(float)))\n",
    "norm_log_p_test = scaler_p.transform((X_test_base[:,415:515].astype(float)))\n",
    "norm_log_dp_test = scaler_dp.transform((X_test_base[:,515:615].astype(float)))\n",
    "norm_target_test = (X_test_base[:, list].astype(int))\n",
    "\n",
    "# Discard time, normalize logP, logdP 2D\n",
    "X_test = np.stack([norm_log_p_test,  norm_log_dp_test], axis=2)  # Stacking 'dp' and 'derp'\n",
    "X_test_reshaped = X_test.reshape(-1, num_time_steps, 2)\n",
    "test_label = norm_target_test \n",
    "\n",
    "X_test_1 = norm_log_dp_test# np.hstack([ norm_t_test, norm_log_dp_test])#norm_log_p_test, norm_t_test,\n",
    "#X_test_1 = X_test_1.reshape((X_test_1.shape[0], X_test_1.shape[1], 1))\n",
    "test_label = norm_target_test -1\n",
    "\n",
    "# Create and normalize Val datasets\n",
    "norm_t_val = scaler_t.transform((X_val_base[:,315:415].astype(float)))\n",
    "norm_log_p_val = scaler_p.transform((X_val_base[:,415:515].astype(float)))\n",
    "norm_log_dp_val = scaler_dp.transform((X_val_base[:,515:615].astype(float)))\n",
    "norm_target_val = (X_val_base[:, list].astype(int))\n",
    "\n",
    "# Discard time, normalize logP, logdP\n",
    "X_val =  np.stack([norm_log_p_val,  norm_log_dp_val], axis=2)  # Stacking 'dp' and 'derp'\n",
    "# X_val_reshaped = X_val.reshape(-1, num_time_steps, 2)\n",
    "val_label = norm_target_val\n",
    "\n",
    "X_val_1 = norm_log_dp_val#  np.hstack([norm_t_val,  norm_log_dp_val])#norm_log_p_val,\n",
    "#X_val_1 =  X_val_1.reshape((X_val_1.shape[0], X_val_1.shape[1], 1))\n",
    "val_label = norm_target_val -1\n",
    "\n",
    "\n",
    "\n",
    "# 1D\n",
    "train_sets1 = [X_train_1, train_label] # can add the lebel to the array \",train_label\"\n",
    "test_sets1  = [X_test_1, test_label]\n",
    "val_sets1  = [X_val_1, val_label]\n",
    "\n",
    "\n",
    "# 2D\n",
    "train_sets2 = [X_train, train_label] # can add the lebel to the array \",train_label\"\n",
    "test_sets2  = [X_test, test_label]\n",
    "val_sets2  = [X_val, val_label]"
   ]
  },
  {
   "cell_type": "code",
   "execution_count": 45,
   "id": "00fe806d-4439-4995-a371-4df6c65b6eb2",
   "metadata": {},
   "outputs": [
    {
     "name": "stdout",
     "output_type": "stream",
     "text": [
      "Train Output Statistics:\n",
      "                 mean       std  min  max\n",
      "train_out_0  1.55696  1.180496    0    3 \n",
      "\n",
      "Test Output Statistics:\n",
      "              mean       std  min  max\n",
      "test_out_0  1.575  1.165697    0    3 \n",
      "\n",
      "Validation Output Statistics:\n",
      "                mean       std  min  max\n",
      "val_out_0  1.638158  1.164437    0    3 \n",
      "\n"
     ]
    }
   ],
   "source": [
    "def calculate_statistics(data, label):\n",
    "    statistics = {\n",
    "        'mean': np.mean(data, axis=0),\n",
    "        'std': np.std(data, axis=0),\n",
    "        'min': np.min(data, axis=0),\n",
    "        'max': np.max(data, axis=0)\n",
    "    }\n",
    "    stats_df = pd.DataFrame(statistics)\n",
    "    stats_df.index = [f'{label}_{i}' for i in range(data.shape[1])]\n",
    "    return stats_df\n",
    "\n",
    "# Train set statistics\n",
    "#train_in_stats = calculate_statistics(X_train, 'train_in')\n",
    "train_out_stats = calculate_statistics(train_label, 'train_out')\n",
    "\n",
    "# Test set statistics\n",
    "#test_in_stats = calculate_statistics(X_test, 'test_in')\n",
    "test_out_stats = calculate_statistics(test_label, 'test_out')\n",
    "\n",
    "# Validation set statistics\n",
    "#val_in_stats = calculate_statistics(X_val, 'val_in')\n",
    "val_out_stats = calculate_statistics(val_label, 'val_out')\n",
    "\n",
    "# Print the statistics\n",
    "#print(\"Train Input Statistics:\\n\", train_in_stats, \"\\n\")\n",
    "print(\"Train Output Statistics:\\n\", train_out_stats, \"\\n\")\n",
    "#print(\"Test Input Statistics:\\n\", test_in_stats, \"\\n\")\n",
    "print(\"Test Output Statistics:\\n\", test_out_stats, \"\\n\")\n",
    "#print(\"Validation Input Statistics:\\n\", val_in_stats, \"\\n\")\n",
    "print(\"Validation Output Statistics:\\n\", val_out_stats, \"\\n\")"
   ]
  },
  {
   "cell_type": "code",
   "execution_count": 48,
   "id": "780cf1f2-fec0-4b28-bfa6-53dab1a04bc1",
   "metadata": {},
   "outputs": [
    {
     "name": "stdout",
     "output_type": "stream",
     "text": [
      "Train Class Distribution:\n",
      "    train_class  count\n",
      "0            0   1666\n",
      "1            1    873\n",
      "2            2   1591\n",
      "3            3   1646 \n",
      "\n",
      "Test Class Distribution:\n",
      "    test_class  count\n",
      "0           0    419\n",
      "1           1    236\n",
      "2           2    437\n",
      "3           3    428 \n",
      "\n",
      "Validation Class Distribution:\n",
      "    val_class  count\n",
      "0          0     77\n",
      "1          1     50\n",
      "2          2     83\n",
      "3          3     94 \n",
      "\n"
     ]
    }
   ],
   "source": [
    "def class_distribution(data, label_name):\n",
    "    unique, counts = np.unique(data, return_counts=True)\n",
    "    distribution = dict(zip(unique, counts))\n",
    "    dist_df = pd.DataFrame.from_dict(distribution, orient='index', columns=['count'])\n",
    "    dist_df.reset_index(inplace=True)\n",
    "    dist_df.rename(columns={'index': f'{label_name}_class'}, inplace=True)\n",
    "    return dist_df\n",
    "\n",
    "# Assuming you have these arrays\n",
    "train_label = train_label\n",
    "test_label = test_label\n",
    "val_label = val_label\n",
    "\n",
    "# Calculate class distributions\n",
    "train_class_dist = class_distribution(train_label, 'train')\n",
    "test_class_dist = class_distribution(test_label, 'test')\n",
    "val_class_dist = class_distribution(val_label, 'val')\n",
    "\n",
    "# Print class distributions\n",
    "print(\"Train Class Distribution:\\n\", train_class_dist, \"\\n\")\n",
    "print(\"Test Class Distribution:\\n\", test_class_dist, \"\\n\")\n",
    "print(\"Validation Class Distribution:\\n\", val_class_dist, \"\\n\")"
   ]
  },
  {
   "cell_type": "code",
   "execution_count": 102,
   "id": "c2f1ccd4-0833-477a-8f0a-7d23a1155cda",
   "metadata": {},
   "outputs": [],
   "source": [
    "# Add and normalize field data\n",
    "# Get df values\n",
    "X = test.values\n",
    "#X[X==0] = 1e-5\n",
    "\n",
    "# Log transformation and normalization for test data using the trained scaler\n",
    "norm_log_t_field = scaler_t.transform((X[:,315:415].astype(float)))\n",
    "norm_log_p_field = scaler_p.transform((X[:,415:515].astype(float)))\n",
    "norm_log_dp_field = scaler_dp.transform((X[:,515:615].astype(float))) \n",
    "norm_target_field = (X[:, list].astype(int))\n",
    "\n",
    "# Discard time, normalize logP, logdP\n",
    "X_field =  np.stack([norm_log_p_field,  norm_log_dp_field], axis=2)  # Stacking 'dp' and 'derp'\n",
    "# X_field_reshaped = X_field.reshape(-1, num_time_steps, 2)\n",
    "val_field = norm_target_field\n",
    "\n",
    "X_field_1 = norm_log_dp_field#  np.hstack([norm_log_t_field,  norm_log_dp_field])#norm_log_p_val,\n",
    "#X_field_1 =  X_field_1.reshape((X_field_1.shape[0], X_field_1.shape[1], 1))\n",
    "field_label = norm_target_field -1\n",
    "field_sets1  = [X_field_1, field_label]"
   ]
  },
  {
   "cell_type": "code",
   "execution_count": 60,
   "id": "5adb6917-8ea2-45f6-a7f8-ed27d2783ee1",
   "metadata": {},
   "outputs": [],
   "source": [
    "from sklearn.metrics import accuracy_score\n",
    "from xgboost import XGBRegressor , XGBClassifier\n",
    "import xgboost as xgb\n",
    "from sklearn.model_selection import cross_val_score\n",
    "from sklearn.model_selection import RepeatedKFold\n",
    "from sklearn.ensemble import RandomForestClassifier"
   ]
  },
  {
   "cell_type": "code",
   "execution_count": 92,
   "id": "c426d866-3cda-4afa-9242-132caffde51b",
   "metadata": {},
   "outputs": [],
   "source": [
    "# Step 4: Choose and initialize the Random Forest Classifier\n",
    "model = RandomForestClassifier(n_estimators=1000, random_state=100, bootstrap=True, class_weight=None, criterion='gini',\n",
    " max_depth=None, max_features='auto', max_leaf_nodes=None , min_samples_leaf=1,\n",
    " min_samples_split=4, min_weight_fraction_leaf=0.0\n",
    " , n_jobs=1, oob_score=False,\n",
    " verbose=0, warm_start=False)"
   ]
  },
  {
   "cell_type": "code",
   "execution_count": 69,
   "id": "4d09cbf5-8458-4d6a-933d-838d75315441",
   "metadata": {},
   "outputs": [],
   "source": [
    "# Initializing the XGBoost Classifier with initial parameters\n",
    "model = XGBClassifier(\n",
    "    learning_rate=0.01,      # Step size shrinkage used to prevent overfitting. Range is [0,1]\n",
    "    n_estimators=1000,       # Number of trees to fit.\n",
    "    max_depth=3,            # Maximum tree depth for base learners.\n",
    ")"
   ]
  },
  {
   "cell_type": "code",
   "execution_count": 93,
   "id": "297e3d0c-8731-423f-be40-eae396b922c1",
   "metadata": {},
   "outputs": [
    {
     "name": "stderr",
     "output_type": "stream",
     "text": [
      "C:\\Users\\DELL\\AppData\\Local\\Temp\\ipykernel_3712\\2572109960.py:1: DataConversionWarning: A column-vector y was passed when a 1d array was expected. Please change the shape of y to (n_samples,), for example using ravel().\n",
      "  model.fit(train_sets1[0], train_sets1[1])\n",
      "C:\\Users\\DELL\\AppData\\Local\\Programs\\Python\\Python311\\Lib\\site-packages\\sklearn\\ensemble\\_forest.py:424: FutureWarning: `max_features='auto'` has been deprecated in 1.1 and will be removed in 1.3. To keep the past behaviour, explicitly set `max_features='sqrt'` or remove this parameter as it is also the default value for RandomForestClassifiers and ExtraTreesClassifiers.\n",
      "  warn(\n"
     ]
    },
    {
     "data": {
      "text/html": [
       "<style>#sk-container-id-11 {color: black;background-color: white;}#sk-container-id-11 pre{padding: 0;}#sk-container-id-11 div.sk-toggleable {background-color: white;}#sk-container-id-11 label.sk-toggleable__label {cursor: pointer;display: block;width: 100%;margin-bottom: 0;padding: 0.3em;box-sizing: border-box;text-align: center;}#sk-container-id-11 label.sk-toggleable__label-arrow:before {content: \"▸\";float: left;margin-right: 0.25em;color: #696969;}#sk-container-id-11 label.sk-toggleable__label-arrow:hover:before {color: black;}#sk-container-id-11 div.sk-estimator:hover label.sk-toggleable__label-arrow:before {color: black;}#sk-container-id-11 div.sk-toggleable__content {max-height: 0;max-width: 0;overflow: hidden;text-align: left;background-color: #f0f8ff;}#sk-container-id-11 div.sk-toggleable__content pre {margin: 0.2em;color: black;border-radius: 0.25em;background-color: #f0f8ff;}#sk-container-id-11 input.sk-toggleable__control:checked~div.sk-toggleable__content {max-height: 200px;max-width: 100%;overflow: auto;}#sk-container-id-11 input.sk-toggleable__control:checked~label.sk-toggleable__label-arrow:before {content: \"▾\";}#sk-container-id-11 div.sk-estimator input.sk-toggleable__control:checked~label.sk-toggleable__label {background-color: #d4ebff;}#sk-container-id-11 div.sk-label input.sk-toggleable__control:checked~label.sk-toggleable__label {background-color: #d4ebff;}#sk-container-id-11 input.sk-hidden--visually {border: 0;clip: rect(1px 1px 1px 1px);clip: rect(1px, 1px, 1px, 1px);height: 1px;margin: -1px;overflow: hidden;padding: 0;position: absolute;width: 1px;}#sk-container-id-11 div.sk-estimator {font-family: monospace;background-color: #f0f8ff;border: 1px dotted black;border-radius: 0.25em;box-sizing: border-box;margin-bottom: 0.5em;}#sk-container-id-11 div.sk-estimator:hover {background-color: #d4ebff;}#sk-container-id-11 div.sk-parallel-item::after {content: \"\";width: 100%;border-bottom: 1px solid gray;flex-grow: 1;}#sk-container-id-11 div.sk-label:hover label.sk-toggleable__label {background-color: #d4ebff;}#sk-container-id-11 div.sk-serial::before {content: \"\";position: absolute;border-left: 1px solid gray;box-sizing: border-box;top: 0;bottom: 0;left: 50%;z-index: 0;}#sk-container-id-11 div.sk-serial {display: flex;flex-direction: column;align-items: center;background-color: white;padding-right: 0.2em;padding-left: 0.2em;position: relative;}#sk-container-id-11 div.sk-item {position: relative;z-index: 1;}#sk-container-id-11 div.sk-parallel {display: flex;align-items: stretch;justify-content: center;background-color: white;position: relative;}#sk-container-id-11 div.sk-item::before, #sk-container-id-11 div.sk-parallel-item::before {content: \"\";position: absolute;border-left: 1px solid gray;box-sizing: border-box;top: 0;bottom: 0;left: 50%;z-index: -1;}#sk-container-id-11 div.sk-parallel-item {display: flex;flex-direction: column;z-index: 1;position: relative;background-color: white;}#sk-container-id-11 div.sk-parallel-item:first-child::after {align-self: flex-end;width: 50%;}#sk-container-id-11 div.sk-parallel-item:last-child::after {align-self: flex-start;width: 50%;}#sk-container-id-11 div.sk-parallel-item:only-child::after {width: 0;}#sk-container-id-11 div.sk-dashed-wrapped {border: 1px dashed gray;margin: 0 0.4em 0.5em 0.4em;box-sizing: border-box;padding-bottom: 0.4em;background-color: white;}#sk-container-id-11 div.sk-label label {font-family: monospace;font-weight: bold;display: inline-block;line-height: 1.2em;}#sk-container-id-11 div.sk-label-container {text-align: center;}#sk-container-id-11 div.sk-container {/* jupyter's `normalize.less` sets `[hidden] { display: none; }` but bootstrap.min.css set `[hidden] { display: none !important; }` so we also need the `!important` here to be able to override the default hidden behavior on the sphinx rendered scikit-learn.org. See: https://github.com/scikit-learn/scikit-learn/issues/21755 */display: inline-block !important;position: relative;}#sk-container-id-11 div.sk-text-repr-fallback {display: none;}</style><div id=\"sk-container-id-11\" class=\"sk-top-container\"><div class=\"sk-text-repr-fallback\"><pre>RandomForestClassifier(max_features=&#x27;auto&#x27;, min_samples_split=4,\n",
       "                       n_estimators=1000, n_jobs=1, random_state=100)</pre><b>In a Jupyter environment, please rerun this cell to show the HTML representation or trust the notebook. <br />On GitHub, the HTML representation is unable to render, please try loading this page with nbviewer.org.</b></div><div class=\"sk-container\" hidden><div class=\"sk-item\"><div class=\"sk-estimator sk-toggleable\"><input class=\"sk-toggleable__control sk-hidden--visually\" id=\"sk-estimator-id-11\" type=\"checkbox\" checked><label for=\"sk-estimator-id-11\" class=\"sk-toggleable__label sk-toggleable__label-arrow\">RandomForestClassifier</label><div class=\"sk-toggleable__content\"><pre>RandomForestClassifier(max_features=&#x27;auto&#x27;, min_samples_split=4,\n",
       "                       n_estimators=1000, n_jobs=1, random_state=100)</pre></div></div></div></div></div>"
      ],
      "text/plain": [
       "RandomForestClassifier(max_features='auto', min_samples_split=4,\n",
       "                       n_estimators=1000, n_jobs=1, random_state=100)"
      ]
     },
     "execution_count": 93,
     "metadata": {},
     "output_type": "execute_result"
    }
   ],
   "source": [
    "model.fit(train_sets1[0], train_sets1[1])"
   ]
  },
  {
   "cell_type": "code",
   "execution_count": 94,
   "id": "8ada70c9-6865-4174-b1a1-3da0e5e0cae7",
   "metadata": {},
   "outputs": [
    {
     "name": "stdout",
     "output_type": "stream",
     "text": [
      "Accuracy: 99.93%\n",
      "Confusion Matrix:\n",
      " [[419   0   0   0]\n",
      " [  0 236   0   0]\n",
      " [  1   0 436   0]\n",
      " [  0   0   0 428]]\n"
     ]
    }
   ],
   "source": [
    "import numpy as np\n",
    "import matplotlib.pyplot as plt\n",
    "from sklearn.metrics import confusion_matrix, classification_report\n",
    "\n",
    "y_pred = model.predict(test_sets1[0])\n",
    "\n",
    "# Accuracy\n",
    "accuracy = accuracy_score(test_sets1[1], y_pred)\n",
    "print(f\"Accuracy: {accuracy * 100:.2f}%\")\n",
    "\n",
    "# Confusion Matrix\n",
    "conf_matrix = confusion_matrix(test_sets1[1], y_pred)\n",
    "print(\"Confusion Matrix:\\n\", conf_matrix)"
   ]
  },
  {
   "cell_type": "code",
   "execution_count": 95,
   "id": "b7cd953d-5b0a-4e6a-849a-0f08f0ca0a96",
   "metadata": {},
   "outputs": [
    {
     "name": "stdout",
     "output_type": "stream",
     "text": [
      "Accuracy: 91.46%\n",
      "Confusion Matrix:\n",
      " [[40  0  0  0]\n",
      " [ 0 40  0  0]\n",
      " [ 0  0 40  0]\n",
      " [ 0  0 14 30]]\n"
     ]
    }
   ],
   "source": [
    "import numpy as np\n",
    "import matplotlib.pyplot as plt\n",
    "from sklearn.metrics import confusion_matrix, classification_report\n",
    "\n",
    "y_pred = model.predict(field_sets1[0])\n",
    "\n",
    "# Accuracy\n",
    "accuracy = accuracy_score(field_sets1[1], y_pred)\n",
    "print(f\"Accuracy: {accuracy * 100:.2f}%\")\n",
    "\n",
    "# Confusion Matrix\n",
    "conf_matrix = confusion_matrix(field_sets1[1], y_pred)\n",
    "print(\"Confusion Matrix:\\n\", conf_matrix)"
   ]
  },
  {
   "cell_type": "code",
   "execution_count": 96,
   "id": "8b6f60d9-906f-4d5d-a3fb-e9225f0fb941",
   "metadata": {},
   "outputs": [],
   "source": [
    "# Step 5: Evaluate the model\n",
    "y_pred_train = model.predict(train_sets1[0])\n",
    "y_pred_test = model.predict(field_sets1[0])"
   ]
  },
  {
   "cell_type": "code",
   "execution_count": 97,
   "id": "487069e2-9a2d-4d9d-900c-c735d971be7f",
   "metadata": {},
   "outputs": [
    {
     "data": {
      "image/png": "[encoded data removed]",
      "text/plain": [
       "<Figure size 640x480 with 2 Axes>"
      ]
     },
     "metadata": {},
     "output_type": "display_data"
    },
    {
     "data": {
      "image/png": "[encoded data removed]",
      "text/plain": [
       "<Figure size 640x480 with 2 Axes>"
      ]
     },
     "metadata": {},
     "output_type": "display_data"
    },
    {
     "name": "stdout",
     "output_type": "stream",
     "text": [
      "Classification Report (Training Set):\n",
      "               precision    recall  f1-score   support\n",
      "\n",
      "           0       1.00      1.00      1.00      1666\n",
      "           1       1.00      1.00      1.00       873\n",
      "           2       1.00      1.00      1.00      1591\n",
      "           3       1.00      1.00      1.00      1646\n",
      "\n",
      "    accuracy                           1.00      5776\n",
      "   macro avg       1.00      1.00      1.00      5776\n",
      "weighted avg       1.00      1.00      1.00      5776\n",
      "\n",
      "Classification Report (Testing Set):\n",
      "               precision    recall  f1-score   support\n",
      "\n",
      "           0       1.00      1.00      1.00        40\n",
      "           1       1.00      1.00      1.00        40\n",
      "           2       0.74      1.00      0.85        40\n",
      "           3       1.00      0.68      0.81        44\n",
      "\n",
      "    accuracy                           0.91       164\n",
      "   macro avg       0.94      0.92      0.92       164\n",
      "weighted avg       0.94      0.91      0.91       164\n",
      "\n"
     ]
    }
   ],
   "source": [
    "import numpy as np\n",
    "import matplotlib.pyplot as plt\n",
    "from sklearn.metrics import confusion_matrix, classification_report\n",
    "\n",
    "\n",
    "# Step 6: Generate evaluation plots and matrices\n",
    "def plot_confusion_matrix(y_true, y_pred, classes, normalize=False, title=None, cmap=plt.cm.Blues):\n",
    "    \"\"\"\n",
    "    This function prints and plots the confusion matrix.\n",
    "    Normalization can be applied by setting `normalize=True`.\n",
    "    \"\"\"\n",
    "    if not title:\n",
    "        if normalize:\n",
    "            title = 'Normalized Confusion Matrix'\n",
    "        else:\n",
    "            title = 'Confusion Matrix'\n",
    "\n",
    "    # Compute confusion matrix\n",
    "    cm = confusion_matrix(y_true, y_pred)\n",
    "\n",
    "    # Normalize confusion matrix if required\n",
    "    if normalize:\n",
    "        cm = cm.astype('float') / cm.sum(axis=1)[:, np.newaxis]\n",
    "\n",
    "    fig, ax = plt.subplots()\n",
    "    im = ax.imshow(cm, interpolation='nearest', cmap=cmap)\n",
    "    ax.figure.colorbar(im, ax=ax)\n",
    "    ax.set(xticks=np.arange(cm.shape[1]),\n",
    "           yticks=np.arange(cm.shape[0]),\n",
    "           xticklabels=classes, yticklabels=classes,\n",
    "           title=title,\n",
    "           ylabel='True label',\n",
    "           xlabel='Predicted label')\n",
    "\n",
    "    plt.xticks(rotation=45, ha='right')\n",
    "\n",
    "    fmt = '.2f' if normalize else 'd'\n",
    "    thresh = cm.max() / 2.\n",
    "    for i in range(cm.shape[0]):\n",
    "        for j in range(cm.shape[1]):\n",
    "            ax.text(j, i, format(cm[i, j], fmt),\n",
    "                    ha=\"center\", va=\"center\",\n",
    "                    color=\"white\" if cm[i, j] > thresh else \"black\")\n",
    "    fig.tight_layout()\n",
    "    return ax\n",
    "\n",
    "\n",
    "# Plot confusion matrix for the training set\n",
    "plot_confusion_matrix(train_sets1[1], y_pred_train, classes=np.unique(train_sets1[1]), normalize=False, title='Confusion Matrix (Training Set)')\n",
    "plt.show()\n",
    "\n",
    "# Plot confusion matrix for the testing set\n",
    "plot_confusion_matrix(field_sets1[1], y_pred_test, classes=np.unique(field_sets1[1]), normalize=False, title='Confusion Matrix (Testing Set)')\n",
    "plt.show()\n",
    "\n",
    "# Print classification report for the training set\n",
    "print(\"Classification Report (Training Set):\\n\", classification_report(train_sets1[1], y_pred_train))\n",
    "\n",
    "# Print classification report for the testing set\n",
    "print(\"Classification Report (Testing Set):\\n\", classification_report(field_sets1[1], y_pred_test))"
   ]
  },
  {
   "cell_type": "code",
   "execution_count": 33,
   "id": "36079f27-686b-4631-a61d-c7f0f94add6e",
   "metadata": {},
   "outputs": [],
   "source": [
    "from xgboost import XGBClassifier\n",
    "\n",
    "# Create an XGBoost classifier model\n",
    "model = XGBClassifier(n_estimators=200, max_depth=8, reg_lambda=0.80,\n",
    "                      learning_rate=0.1, gamma=0, random_state=10)"
   ]
  },
  {
   "cell_type": "code",
   "execution_count": 35,
   "id": "005647a9-a0bd-4de9-b190-2dd17d2014d5",
   "metadata": {},
   "outputs": [
    {
     "data": {
      "text/html": [
       "<style>#sk-container-id-3 {color: black;background-color: white;}#sk-container-id-3 pre{padding: 0;}#sk-container-id-3 div.sk-toggleable {background-color: white;}#sk-container-id-3 label.sk-toggleable__label {cursor: pointer;display: block;width: 100%;margin-bottom: 0;padding: 0.3em;box-sizing: border-box;text-align: center;}#sk-container-id-3 label.sk-toggleable__label-arrow:before {content: \"▸\";float: left;margin-right: 0.25em;color: #696969;}#sk-container-id-3 label.sk-toggleable__label-arrow:hover:before {color: black;}#sk-container-id-3 div.sk-estimator:hover label.sk-toggleable__label-arrow:before {color: black;}#sk-container-id-3 div.sk-toggleable__content {max-height: 0;max-width: 0;overflow: hidden;text-align: left;background-color: #f0f8ff;}#sk-container-id-3 div.sk-toggleable__content pre {margin: 0.2em;color: black;border-radius: 0.25em;background-color: #f0f8ff;}#sk-container-id-3 input.sk-toggleable__control:checked~div.sk-toggleable__content {max-height: 200px;max-width: 100%;overflow: auto;}#sk-container-id-3 input.sk-toggleable__control:checked~label.sk-toggleable__label-arrow:before {content: \"▾\";}#sk-container-id-3 div.sk-estimator input.sk-toggleable__control:checked~label.sk-toggleable__label {background-color: #d4ebff;}#sk-container-id-3 div.sk-label input.sk-toggleable__control:checked~label.sk-toggleable__label {background-color: #d4ebff;}#sk-container-id-3 input.sk-hidden--visually {border: 0;clip: rect(1px 1px 1px 1px);clip: rect(1px, 1px, 1px, 1px);height: 1px;margin: -1px;overflow: hidden;padding: 0;position: absolute;width: 1px;}#sk-container-id-3 div.sk-estimator {font-family: monospace;background-color: #f0f8ff;border: 1px dotted black;border-radius: 0.25em;box-sizing: border-box;margin-bottom: 0.5em;}#sk-container-id-3 div.sk-estimator:hover {background-color: #d4ebff;}#sk-container-id-3 div.sk-parallel-item::after {content: \"\";width: 100%;border-bottom: 1px solid gray;flex-grow: 1;}#sk-container-id-3 div.sk-label:hover label.sk-toggleable__label {background-color: #d4ebff;}#sk-container-id-3 div.sk-serial::before {content: \"\";position: absolute;border-left: 1px solid gray;box-sizing: border-box;top: 0;bottom: 0;left: 50%;z-index: 0;}#sk-container-id-3 div.sk-serial {display: flex;flex-direction: column;align-items: center;background-color: white;padding-right: 0.2em;padding-left: 0.2em;position: relative;}#sk-container-id-3 div.sk-item {position: relative;z-index: 1;}#sk-container-id-3 div.sk-parallel {display: flex;align-items: stretch;justify-content: center;background-color: white;position: relative;}#sk-container-id-3 div.sk-item::before, #sk-container-id-3 div.sk-parallel-item::before {content: \"\";position: absolute;border-left: 1px solid gray;box-sizing: border-box;top: 0;bottom: 0;left: 50%;z-index: -1;}#sk-container-id-3 div.sk-parallel-item {display: flex;flex-direction: column;z-index: 1;position: relative;background-color: white;}#sk-container-id-3 div.sk-parallel-item:first-child::after {align-self: flex-end;width: 50%;}#sk-container-id-3 div.sk-parallel-item:last-child::after {align-self: flex-start;width: 50%;}#sk-container-id-3 div.sk-parallel-item:only-child::after {width: 0;}#sk-container-id-3 div.sk-dashed-wrapped {border: 1px dashed gray;margin: 0 0.4em 0.5em 0.4em;box-sizing: border-box;padding-bottom: 0.4em;background-color: white;}#sk-container-id-3 div.sk-label label {font-family: monospace;font-weight: bold;display: inline-block;line-height: 1.2em;}#sk-container-id-3 div.sk-label-container {text-align: center;}#sk-container-id-3 div.sk-container {/* jupyter's `normalize.less` sets `[hidden] { display: none; }` but bootstrap.min.css set `[hidden] { display: none !important; }` so we also need the `!important` here to be able to override the default hidden behavior on the sphinx rendered scikit-learn.org. See: https://github.com/scikit-learn/scikit-learn/issues/21755 */display: inline-block !important;position: relative;}#sk-container-id-3 div.sk-text-repr-fallback {display: none;}</style><div id=\"sk-container-id-3\" class=\"sk-top-container\"><div class=\"sk-text-repr-fallback\"><pre>XGBClassifier(base_score=None, booster=None, callbacks=None,\n",
       "              colsample_bylevel=None, colsample_bynode=None,\n",
       "              colsample_bytree=None, device=None, early_stopping_rounds=None,\n",
       "              enable_categorical=False, eval_metric=None, feature_types=None,\n",
       "              gamma=0, grow_policy=None, importance_type=None,\n",
       "              interaction_constraints=None, learning_rate=0.1, max_bin=None,\n",
       "              max_cat_threshold=None, max_cat_to_onehot=None,\n",
       "              max_delta_step=None, max_depth=8, max_leaves=None,\n",
       "              min_child_weight=None, missing=nan, monotone_constraints=None,\n",
       "              multi_strategy=None, n_estimators=200, n_jobs=None,\n",
       "              num_parallel_tree=None, objective=&#x27;multi:softprob&#x27;, ...)</pre><b>In a Jupyter environment, please rerun this cell to show the HTML representation or trust the notebook. <br />On GitHub, the HTML representation is unable to render, please try loading this page with nbviewer.org.</b></div><div class=\"sk-container\" hidden><div class=\"sk-item\"><div class=\"sk-estimator sk-toggleable\"><input class=\"sk-toggleable__control sk-hidden--visually\" id=\"sk-estimator-id-3\" type=\"checkbox\" checked><label for=\"sk-estimator-id-3\" class=\"sk-toggleable__label sk-toggleable__label-arrow\">XGBClassifier</label><div class=\"sk-toggleable__content\"><pre>XGBClassifier(base_score=None, booster=None, callbacks=None,\n",
       "              colsample_bylevel=None, colsample_bynode=None,\n",
       "              colsample_bytree=None, device=None, early_stopping_rounds=None,\n",
       "              enable_categorical=False, eval_metric=None, feature_types=None,\n",
       "              gamma=0, grow_policy=None, importance_type=None,\n",
       "              interaction_constraints=None, learning_rate=0.1, max_bin=None,\n",
       "              max_cat_threshold=None, max_cat_to_onehot=None,\n",
       "              max_delta_step=None, max_depth=8, max_leaves=None,\n",
       "              min_child_weight=None, missing=nan, monotone_constraints=None,\n",
       "              multi_strategy=None, n_estimators=200, n_jobs=None,\n",
       "              num_parallel_tree=None, objective=&#x27;multi:softprob&#x27;, ...)</pre></div></div></div></div></div>"
      ],
      "text/plain": [
       "XGBClassifier(base_score=None, booster=None, callbacks=None,\n",
       "              colsample_bylevel=None, colsample_bynode=None,\n",
       "              colsample_bytree=None, device=None, early_stopping_rounds=None,\n",
       "              enable_categorical=False, eval_metric=None, feature_types=None,\n",
       "              gamma=0, grow_policy=None, importance_type=None,\n",
       "              interaction_constraints=None, learning_rate=0.1, max_bin=None,\n",
       "              max_cat_threshold=None, max_cat_to_onehot=None,\n",
       "              max_delta_step=None, max_depth=8, max_leaves=None,\n",
       "              min_child_weight=None, missing=nan, monotone_constraints=None,\n",
       "              multi_strategy=None, n_estimators=200, n_jobs=None,\n",
       "              num_parallel_tree=None, objective='multi:softprob', ...)"
      ]
     },
     "execution_count": 35,
     "metadata": {},
     "output_type": "execute_result"
    }
   ],
   "source": [
    "# Fit the model to the training data (assuming X_train and y_train are defined)\n",
    "model.fit(train_sets1[0], train_sets1[1])"
   ]
  },
  {
   "cell_type": "code",
   "execution_count": 74,
   "id": "8a1eece3-f267-4330-9b19-b844824602a0",
   "metadata": {},
   "outputs": [],
   "source": [
    "# Predict using the model\n",
    "y_pred = model.predict(test_sets1[0])\n",
    "y_pred1 = model.predict(train_sets1[0])"
   ]
  },
  {
   "cell_type": "code",
   "execution_count": 75,
   "id": "a1b2c067-69c3-43fa-9eaa-e89d34747930",
   "metadata": {},
   "outputs": [
    {
     "name": "stdout",
     "output_type": "stream",
     "text": [
      "Accuracy: 0.9993421052631579\n"
     ]
    }
   ],
   "source": [
    "# Evaluate the model\n",
    "from sklearn.metrics import accuracy_score, classification_report\n",
    "\n",
    "# Calculate accuracy\n",
    "accuracy = accuracy_score(test_sets1[1], y_pred)\n",
    "print(f\"Accuracy: {accuracy}\")"
   ]
  },
  {
   "cell_type": "code",
   "execution_count": 76,
   "id": "5d37fae4-531d-40d0-83ca-f83376ba49e3",
   "metadata": {},
   "outputs": [
    {
     "name": "stdout",
     "output_type": "stream",
     "text": [
      "              precision    recall  f1-score   support\n",
      "\n",
      "           0       1.00      1.00      1.00       419\n",
      "           1       1.00      1.00      1.00       236\n",
      "           2       1.00      1.00      1.00       437\n",
      "           3       1.00      1.00      1.00       428\n",
      "\n",
      "    accuracy                           1.00      1520\n",
      "   macro avg       1.00      1.00      1.00      1520\n",
      "weighted avg       1.00      1.00      1.00      1520\n",
      "\n",
      "              precision    recall  f1-score   support\n",
      "\n",
      "           0       1.00      1.00      1.00      1666\n",
      "           1       1.00      1.00      1.00       873\n",
      "           2       1.00      1.00      1.00      1591\n",
      "           3       1.00      1.00      1.00      1646\n",
      "\n",
      "    accuracy                           1.00      5776\n",
      "   macro avg       1.00      1.00      1.00      5776\n",
      "weighted avg       1.00      1.00      1.00      5776\n",
      "\n"
     ]
    }
   ],
   "source": [
    "# Print classification report\n",
    "print(classification_report(test_sets1[1], y_pred))\n",
    "print(classification_report(train_sets1[1], y_pred1))"
   ]
  },
  {
   "cell_type": "code",
   "execution_count": null,
   "id": "befac26a-743f-47b1-833d-95a3c92541bb",
   "metadata": {},
   "outputs": [],
   "source": []
  },
  {
   "cell_type": "code",
   "execution_count": null,
   "id": "b20a8f18-c8e4-4b75-8d80-040ddcd47311",
   "metadata": {},
   "outputs": [],
   "source": []
  },
  {
   "cell_type": "code",
   "execution_count": null,
   "id": "ebcd00b5-ca21-444d-86e5-792313856ec1",
   "metadata": {},
   "outputs": [],
   "source": []
  },
  {
   "cell_type": "code",
   "execution_count": null,
   "id": "2843f063-d44b-43cf-85f7-a69c31af88e9",
   "metadata": {},
   "outputs": [],
   "source": []
  },
  {
   "cell_type": "code",
   "execution_count": null,
   "id": "09daa8cd-d3a7-4108-bf05-a4a6f822544a",
   "metadata": {},
   "outputs": [],
   "source": []
  }
 ],
 "metadata": {
  "kernelspec": {
   "display_name": "Python 3 (ipykernel)",
   "language": "python",
   "name": "python3"
  },
  "language_info": {
   "codemirror_mode": {
    "name": "ipython",
    "version": 3
   },
   "file_extension": ".py",
   "mimetype": "text/x-python",
   "name": "python",
   "nbconvert_exporter": "python",
   "pygments_lexer": "ipython3",
   "version": "3.11.5"
  }
 },
 "nbformat": 4,
 "nbformat_minor": 5
}
