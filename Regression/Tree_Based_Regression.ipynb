{
 "cells": [
  {
   "cell_type": "code",
   "execution_count": 1,
   "id": "9a34e6d7-f231-4e35-8cc1-d76e63293b59",
   "metadata": {},
   "outputs": [],
   "source": [
    "import numpy as np\n",
    "import pandas as pd\n",
    "from sklearn.preprocessing import StandardScaler , MinMaxScaler\n",
    "from sklearn.model_selection import train_test_split"
   ]
  },
  {
   "cell_type": "code",
   "execution_count": 4,
   "id": "6ddaae9b-3d1d-4424-b329-51e085c3bcc0",
   "metadata": {},
   "outputs": [],
   "source": [
    "# Re-loading the data from the provided file\n",
    "data_recheck = pd.read_excel('All_Data.xlsx',sheet_name='Normally_k (original)')# chance to ('Skin',')\n",
    "test= pd.read_excel('All_Data.xlsx',sheet_name='Test')"
   ]
  },
  {
   "cell_type": "code",
   "execution_count": 58,
   "id": "8b8d3933-190d-4549-9afe-c61ee69e9083",
   "metadata": {},
   "outputs": [],
   "source": [
    "df = pd.read_excel('K_collection.xlsx',sheet_name='Cd')# chance to ('Skin',')"
   ]
  },
  {
   "cell_type": "code",
   "execution_count": 42,
   "id": "af091af9-766b-43c1-b487-b1ce05aff4a8",
   "metadata": {},
   "outputs": [],
   "source": [
    "test= pd.read_excel('K_collection.xlsx',sheet_name='val_k')"
   ]
  },
  {
   "cell_type": "code",
   "execution_count": 43,
   "id": "f7b52b52-9350-4ecc-beda-df171a820949",
   "metadata": {},
   "outputs": [],
   "source": [
    "# Assuming df is your DataFrame\n",
    "t = df.iloc[:, 315:415]\n",
    "dp = df.iloc[:, 515:615]\n",
    "target = df.iloc[:, 9]\n",
    "\n",
    "# Dividing each value in t and dp by the corresponding target value for each row\n",
    "t_normalized = t.div(target, axis=0)\n",
    "dp_normalized = dp.div(target, axis=0)\n",
    "\n",
    "# You can replace the original columns with the normalized columns if desired\n",
    "df.iloc[:, 315:415] = t_normalized\n",
    "df.iloc[:, 515:615] = dp_normalized\n",
    "\n",
    "# # Create a new DataFrame with the normalized columns\n",
    "# normalized_df = pd.concat([t_normalized, dp_normalized], axis=1)\n",
    "\n",
    "\n",
    "# normalized_df.head()  # Display the first few rows to check the results\n",
    "###############################################\n",
    "t1 = test.iloc[:, 315:415]\n",
    "dp1 = test.iloc[:, 515:615]\n",
    "target1 = test.iloc[:, 9]\n",
    "\n",
    "# Dividing each value in t and dp by the corresponding target value for each row\n",
    "t_normalized1 = t1.div(target1, axis=0)\n",
    "dp_normalized1 = dp1.div(target1, axis=0)\n",
    "\n",
    "# You can replace the original columns with the normalized columns if desired\n",
    "test.iloc[:, 315:415] = t_normalized1\n",
    "test.iloc[:, 515:615] = dp_normalized1"
   ]
  },
  {
   "cell_type": "code",
   "execution_count": 11,
   "id": "bcf536c7-7c03-4467-b388-00f9ba252f1e",
   "metadata": {},
   "outputs": [],
   "source": [
    "# # Get df values\n",
    "# X = df.values\n",
    "# X[X==0] = 1e-5\n",
    "# #X[X<=0] = 1e-5\n",
    "# #X = np.abs(X)\n",
    "\n",
    "\n",
    "# X_train_base, X_test_base = train_test_split(X, test_size=0.2, random_state=100, shuffle=True)\n",
    "# X_train_base, X_val_base = train_test_split(X_train_base, test_size=0.05, random_state=50, shuffle=False)\n",
    "\n",
    "# # Normalization\n",
    "# scaler = StandardScaler()\n",
    "\n",
    "# # Create and normalize train datasets\n",
    "# list = [2] # Labels index (K=1, L=2 ,Skin=3)\n",
    "# num_time_steps = 100\n",
    "# norm_log_t_train = scaler.fit_transform(np.log(X_train_base[:, 315:415].astype(float)))\n",
    "# norm_log_p_train = scaler.fit_transform(np.log(X_train_base[:, 415:515].astype(float)))\n",
    "# norm_log_dp_train = scaler.fit_transform(np.log(X_train_base[:, 515:615].astype(float)))\n",
    "# norm_target_train = scaler.fit_transform((X_train_base[:, list].astype(float)))# scaler.fit_transform\n",
    "\n",
    "# # Discard time, normalize logP, logdP\n",
    "# X_train = np.stack([norm_log_t_train,   norm_log_dp_train], axis=2)  # Stacking 'dp' and 'derp'\n",
    "# X_train_reshaped = X_train.reshape(-1, num_time_steps, 2)\n",
    "# train_label = norm_target_train\n",
    "\n",
    "# X_train_1 = np.hstack([ norm_log_t_train, norm_log_dp_train])#norm_log_p_train, norm_log_t_train,\n",
    "# train_label = norm_target_train\n",
    "\n",
    "# # Create and normalize test datasets\n",
    "# norm_t_test = scaler.fit_transform(np.log(X_test_base[:, 315:415].astype(float)))\n",
    "# norm_log_p_test = scaler.fit_transform(np.log(X_test_base[:, 415:515].astype(float)))\n",
    "# norm_log_dp_test = scaler.fit_transform(np.log(X_test_base[:, 515:615].astype(float)))\n",
    "# norm_target_test = scaler.fit_transform((X_test_base[:, list].astype(float)))#scaler.fit_transform\n",
    "\n",
    "# # Discard time, normalize logP, logdP\n",
    "# X_test = np.stack([norm_t_test,  norm_log_dp_test], axis=2)  # Stacking 'dp' and 'derp'\n",
    "# X_test_reshaped = X_test.reshape(-1, num_time_steps, 2)\n",
    "# test_label = norm_target_test\n",
    "\n",
    "# X_test_1 = np.hstack([ norm_t_test, norm_log_dp_test])#norm_log_p_test, norm_t_test,\n",
    "# test_label = norm_target_test\n",
    "\n",
    "# # Create and normalize Val datasets\n",
    "# norm_t_val = scaler.fit_transform(np.log(X_val_base[:, 315:415].astype(float)))\n",
    "# norm_log_p_val = scaler.fit_transform(np.log(X_val_base[:, 415:515].astype(float)))\n",
    "# norm_log_dp_val = scaler.fit_transform(np.log(X_val_base[:, 515:615].astype(float)))\n",
    "# norm_target_val = scaler.fit_transform((X_val_base[:, list].astype(float)))\n",
    "\n",
    "# # Discard time, normalize logP, logdP\n",
    "# X_val = np.stack([norm_t_val,  norm_log_dp_val], axis=2)  # Stacking 'dp' and 'derp'\n",
    "# X_val_reshaped = X_val.reshape(-1, num_time_steps, 2)\n",
    "# val_label = norm_target_val\n",
    "\n",
    "# X_val_1 = np.hstack([norm_t_val,  norm_log_dp_val])#norm_log_p_val,\n",
    "# val_label = norm_target_val\n",
    "\n",
    "# # 1D\n",
    "# train_sets1 = [X_train_1, train_label] # can add the lebel to the array \",train_label\"\n",
    "# test_sets1  = [X_test_1, test_label]\n",
    "# val_sets1  = [X_val_1, val_label]\n",
    "\n",
    "# # 2D\n",
    "# train_sets2 = [X_train, train_label] # can add the lebel to the array \",train_label\"\n",
    "# test_sets2  = [X_test, test_label]\n",
    "# val_sets2  = [X_val, val_label]"
   ]
  },
  {
   "cell_type": "code",
   "execution_count": 12,
   "id": "7b80a3b8-c901-4aac-8cf7-6a3182926c25",
   "metadata": {},
   "outputs": [],
   "source": [
    "# # Get df values\n",
    "# X = test.values\n",
    "# #X[X==0] = 1e-5\n",
    "# list = [11] # for permeability \n",
    "# # Log transformation and normalization for test data using the trained scaler\n",
    "# norm_log_t_field = scaler.fit_transform(np.log(X[:, 315:415].astype(float)))\n",
    "# norm_log_p_field = scaler.fit_transform(np.log(X[:, 415:515].astype(float)))\n",
    "# norm_log_dp_field = scaler.fit_transform(np.log(X[:, 515:615].astype(float)))\n",
    "# norm_target_field = scaler.fit_transform((X[:, list].astype(float)))\n",
    "\n",
    "\n",
    "# X_field_1 =  np.hstack([norm_log_t_field,  norm_log_dp_field])#norm_log_p_val,\n",
    "# field_label = norm_target_field\n",
    "\n",
    "# # 1D\n",
    "# field_sets1  = [X_field_1, field_label]"
   ]
  },
  {
   "cell_type": "code",
   "execution_count": 59,
   "id": "ad71cc86-a5fa-4629-bc85-86c95731767b",
   "metadata": {},
   "outputs": [],
   "source": [
    "# modified sets with corrected scaler \n",
    "\n",
    "# Get df values\n",
    "X = df.values\n",
    "X[X==0] = 1e-5  # Handling zeros for logarithmic transformation\n",
    "\n",
    "# Splitting the data into train, test, and validation sets\n",
    "X_train_base, X_test_base = train_test_split(X, test_size=0.2, random_state=100, shuffle=True)\n",
    "X_train_base, X_val_base = train_test_split(X_train_base, test_size=0.05, random_state=50, shuffle=False)\n",
    "\n",
    "list = [14] # Labels index (K=1, L=2 ,Skin=3)\n",
    "# Creating scalers for each type of feature\n",
    "scaler_t = StandardScaler()\n",
    "scaler_p = StandardScaler()\n",
    "scaler_dp = StandardScaler()\n",
    "scaler_target = StandardScaler()\n",
    "\n",
    "# Fit and transform training data\n",
    "norm_log_t_train = scaler_t.fit_transform(np.log(X_train_base[:,314:414].astype(float)))\n",
    "norm_log_p_train = scaler_p.fit_transform(np.log(X_train_base[:,414:514].astype(float)))\n",
    "norm_log_dp_train = scaler_dp.fit_transform(np.log(X_train_base[:,514:614].astype(float)))\n",
    "norm_target_train = scaler_target.fit_transform(X_train_base[:, list].astype(float))\n",
    "\n",
    "# Creating train set\n",
    "X_train =  np.hstack([norm_log_t_train, norm_log_p_train, norm_log_dp_train])\n",
    "train_label = norm_target_train\n",
    "\n",
    "# Transform test data using the fitted scalers\n",
    "norm_t_test = scaler_t.transform(np.log(X_test_base[:,314:414].astype(float)))\n",
    "norm_log_p_test = scaler_p.transform(np.log(X_test_base[:,414:514].astype(float)))\n",
    "norm_log_dp_test = scaler_dp.transform(np.log(X_test_base[:,514:614].astype(float)))\n",
    "norm_target_test = scaler_target.fit_transform(X_test_base[:, list].astype(float))\n",
    "\n",
    "# Creating test set\n",
    "X_test = np.hstack([norm_t_test ,norm_log_p_test, norm_log_dp_test])\n",
    "test_label = norm_target_test\n",
    "\n",
    "# Transform validation data using the fitted scalers\n",
    "norm_t_val = scaler_t.transform(np.log(X_val_base[:,314:414].astype(float)))\n",
    "norm_log_p_val = scaler_p.transform(np.log(X_val_base[:,414:514].astype(float)))\n",
    "norm_log_dp_val = scaler_dp.transform(np.log(X_val_base[:,514:614].astype(float)))\n",
    "norm_target_val = scaler_target.fit_transform(X_val_base[:, list].astype(float))\n",
    "\n",
    "# Creating validation set\n",
    "X_val = np.hstack([norm_t_val, norm_log_p_val, norm_log_dp_val])\n",
    "val_label = norm_target_val\n",
    "\n",
    "# Collecting data sets\n",
    "train_sets1 = [X_train, train_label]\n",
    "test_sets1  = [X_test, test_label]\n",
    "val_sets1  = [X_val, val_label]"
   ]
  },
  {
   "cell_type": "code",
   "execution_count": 60,
   "id": "f91ffec5-057f-4c0e-96bc-fa5a43853cb2",
   "metadata": {},
   "outputs": [],
   "source": [
    "# Get df values\n",
    "Y = test.values\n",
    "Y[Y==0] = 1e-5\n",
    "list = [14] # for permeability \n",
    "# Log transformation and normalization for test data using the trained scaler\n",
    "norm_log_t_field = scaler_t.transform(np.log(Y[:,314:414].astype(float)))\n",
    "norm_log_p_field = scaler_p.transform(np.log(Y[:,414:514].astype(float)))\n",
    "norm_log_dp_field = scaler_dp.transform(np.log(Y[:,514:614].astype(float)))\n",
    "norm_target_field = scaler_target.fit_transform((Y[:, list].astype(float)))\n",
    "\n",
    "\n",
    "X_field_1 = np.hstack([norm_log_t_field, norm_log_p_field,  norm_log_dp_field])#norm_log_p_val,\n",
    "field_label = norm_target_field\n",
    "\n",
    "# 1D\n",
    "field_sets1  = [X_field_1, field_label]"
   ]
  },
  {
   "cell_type": "code",
   "execution_count": 36,
   "id": "fb167ec9-aef9-4971-8837-763cea238edf",
   "metadata": {},
   "outputs": [],
   "source": [
    "from sklearn.ensemble import RandomForestRegressor\n",
    "import numpy as np\n",
    "import matplotlib.pyplot as plt\n",
    "from sklearn.model_selection import train_test_split\n",
    "from sklearn.ensemble import RandomForestRegressor\n",
    "from xgboost import XGBRegressor \n",
    "from sklearn.datasets import make_regression\n",
    "from sklearn.metrics import mean_squared_error , mean_absolute_error, r2_score"
   ]
  },
  {
   "cell_type": "code",
   "execution_count": 61,
   "id": "82485e2e-8066-4c55-8666-6d685428d5c3",
   "metadata": {},
   "outputs": [],
   "source": [
    "# Initialize the Random Forest Regressor\n",
    "model = RandomForestRegressor(n_estimators=1000, random_state=42, bootstrap=True,\n",
    "                              max_depth=None, max_features='auto', max_leaf_nodes=None, min_samples_leaf=1,\n",
    "                              min_samples_split=2, min_weight_fraction_leaf=0.0,\n",
    "                              n_jobs=-1, oob_score=False, verbose=0, warm_start=False)"
   ]
  },
  {
   "cell_type": "code",
   "execution_count": 68,
   "id": "d89688cb-25ca-42b0-bacf-feac6ae518c9",
   "metadata": {},
   "outputs": [],
   "source": [
    "model = XGBRegressor(n_estimators=2000, max_depth=4,  reg_lambda = 0.80 , \n",
    "                     learning_rate=0.01, gamma= 0,  random_state = 10)"
   ]
  },
  {
   "cell_type": "code",
   "execution_count": 69,
   "id": "99bcede0-5a00-4b86-be54-bbab7e5b6bf5",
   "metadata": {},
   "outputs": [
    {
     "data": {
      "text/html": [
       "<style>#sk-container-id-7 {color: black;background-color: white;}#sk-container-id-7 pre{padding: 0;}#sk-container-id-7 div.sk-toggleable {background-color: white;}#sk-container-id-7 label.sk-toggleable__label {cursor: pointer;display: block;width: 100%;margin-bottom: 0;padding: 0.3em;box-sizing: border-box;text-align: center;}#sk-container-id-7 label.sk-toggleable__label-arrow:before {content: \"▸\";float: left;margin-right: 0.25em;color: #696969;}#sk-container-id-7 label.sk-toggleable__label-arrow:hover:before {color: black;}#sk-container-id-7 div.sk-estimator:hover label.sk-toggleable__label-arrow:before {color: black;}#sk-container-id-7 div.sk-toggleable__content {max-height: 0;max-width: 0;overflow: hidden;text-align: left;background-color: #f0f8ff;}#sk-container-id-7 div.sk-toggleable__content pre {margin: 0.2em;color: black;border-radius: 0.25em;background-color: #f0f8ff;}#sk-container-id-7 input.sk-toggleable__control:checked~div.sk-toggleable__content {max-height: 200px;max-width: 100%;overflow: auto;}#sk-container-id-7 input.sk-toggleable__control:checked~label.sk-toggleable__label-arrow:before {content: \"▾\";}#sk-container-id-7 div.sk-estimator input.sk-toggleable__control:checked~label.sk-toggleable__label {background-color: #d4ebff;}#sk-container-id-7 div.sk-label input.sk-toggleable__control:checked~label.sk-toggleable__label {background-color: #d4ebff;}#sk-container-id-7 input.sk-hidden--visually {border: 0;clip: rect(1px 1px 1px 1px);clip: rect(1px, 1px, 1px, 1px);height: 1px;margin: -1px;overflow: hidden;padding: 0;position: absolute;width: 1px;}#sk-container-id-7 div.sk-estimator {font-family: monospace;background-color: #f0f8ff;border: 1px dotted black;border-radius: 0.25em;box-sizing: border-box;margin-bottom: 0.5em;}#sk-container-id-7 div.sk-estimator:hover {background-color: #d4ebff;}#sk-container-id-7 div.sk-parallel-item::after {content: \"\";width: 100%;border-bottom: 1px solid gray;flex-grow: 1;}#sk-container-id-7 div.sk-label:hover label.sk-toggleable__label {background-color: #d4ebff;}#sk-container-id-7 div.sk-serial::before {content: \"\";position: absolute;border-left: 1px solid gray;box-sizing: border-box;top: 0;bottom: 0;left: 50%;z-index: 0;}#sk-container-id-7 div.sk-serial {display: flex;flex-direction: column;align-items: center;background-color: white;padding-right: 0.2em;padding-left: 0.2em;position: relative;}#sk-container-id-7 div.sk-item {position: relative;z-index: 1;}#sk-container-id-7 div.sk-parallel {display: flex;align-items: stretch;justify-content: center;background-color: white;position: relative;}#sk-container-id-7 div.sk-item::before, #sk-container-id-7 div.sk-parallel-item::before {content: \"\";position: absolute;border-left: 1px solid gray;box-sizing: border-box;top: 0;bottom: 0;left: 50%;z-index: -1;}#sk-container-id-7 div.sk-parallel-item {display: flex;flex-direction: column;z-index: 1;position: relative;background-color: white;}#sk-container-id-7 div.sk-parallel-item:first-child::after {align-self: flex-end;width: 50%;}#sk-container-id-7 div.sk-parallel-item:last-child::after {align-self: flex-start;width: 50%;}#sk-container-id-7 div.sk-parallel-item:only-child::after {width: 0;}#sk-container-id-7 div.sk-dashed-wrapped {border: 1px dashed gray;margin: 0 0.4em 0.5em 0.4em;box-sizing: border-box;padding-bottom: 0.4em;background-color: white;}#sk-container-id-7 div.sk-label label {font-family: monospace;font-weight: bold;display: inline-block;line-height: 1.2em;}#sk-container-id-7 div.sk-label-container {text-align: center;}#sk-container-id-7 div.sk-container {/* jupyter's `normalize.less` sets `[hidden] { display: none; }` but bootstrap.min.css set `[hidden] { display: none !important; }` so we also need the `!important` here to be able to override the default hidden behavior on the sphinx rendered scikit-learn.org. See: https://github.com/scikit-learn/scikit-learn/issues/21755 */display: inline-block !important;position: relative;}#sk-container-id-7 div.sk-text-repr-fallback {display: none;}</style><div id=\"sk-container-id-7\" class=\"sk-top-container\"><div class=\"sk-text-repr-fallback\"><pre>XGBRegressor(base_score=None, booster=None, callbacks=None,\n",
       "             colsample_bylevel=None, colsample_bynode=None,\n",
       "             colsample_bytree=None, device=None, early_stopping_rounds=None,\n",
       "             enable_categorical=False, eval_metric=None, feature_types=None,\n",
       "             gamma=0, grow_policy=None, importance_type=None,\n",
       "             interaction_constraints=None, learning_rate=0.01, max_bin=None,\n",
       "             max_cat_threshold=None, max_cat_to_onehot=None,\n",
       "             max_delta_step=None, max_depth=4, max_leaves=None,\n",
       "             min_child_weight=None, missing=nan, monotone_constraints=None,\n",
       "             multi_strategy=None, n_estimators=2000, n_jobs=None,\n",
       "             num_parallel_tree=None, random_state=10, ...)</pre><b>In a Jupyter environment, please rerun this cell to show the HTML representation or trust the notebook. <br />On GitHub, the HTML representation is unable to render, please try loading this page with nbviewer.org.</b></div><div class=\"sk-container\" hidden><div class=\"sk-item\"><div class=\"sk-estimator sk-toggleable\"><input class=\"sk-toggleable__control sk-hidden--visually\" id=\"sk-estimator-id-7\" type=\"checkbox\" checked><label for=\"sk-estimator-id-7\" class=\"sk-toggleable__label sk-toggleable__label-arrow\">XGBRegressor</label><div class=\"sk-toggleable__content\"><pre>XGBRegressor(base_score=None, booster=None, callbacks=None,\n",
       "             colsample_bylevel=None, colsample_bynode=None,\n",
       "             colsample_bytree=None, device=None, early_stopping_rounds=None,\n",
       "             enable_categorical=False, eval_metric=None, feature_types=None,\n",
       "             gamma=0, grow_policy=None, importance_type=None,\n",
       "             interaction_constraints=None, learning_rate=0.01, max_bin=None,\n",
       "             max_cat_threshold=None, max_cat_to_onehot=None,\n",
       "             max_delta_step=None, max_depth=4, max_leaves=None,\n",
       "             min_child_weight=None, missing=nan, monotone_constraints=None,\n",
       "             multi_strategy=None, n_estimators=2000, n_jobs=None,\n",
       "             num_parallel_tree=None, random_state=10, ...)</pre></div></div></div></div></div>"
      ],
      "text/plain": [
       "XGBRegressor(base_score=None, booster=None, callbacks=None,\n",
       "             colsample_bylevel=None, colsample_bynode=None,\n",
       "             colsample_bytree=None, device=None, early_stopping_rounds=None,\n",
       "             enable_categorical=False, eval_metric=None, feature_types=None,\n",
       "             gamma=0, grow_policy=None, importance_type=None,\n",
       "             interaction_constraints=None, learning_rate=0.01, max_bin=None,\n",
       "             max_cat_threshold=None, max_cat_to_onehot=None,\n",
       "             max_delta_step=None, max_depth=4, max_leaves=None,\n",
       "             min_child_weight=None, missing=nan, monotone_constraints=None,\n",
       "             multi_strategy=None, n_estimators=2000, n_jobs=None,\n",
       "             num_parallel_tree=None, random_state=10, ...)"
      ]
     },
     "execution_count": 69,
     "metadata": {},
     "output_type": "execute_result"
    }
   ],
   "source": [
    "# Training the model\n",
    "model.fit(train_sets1[0], train_sets1[1])"
   ]
  },
  {
   "cell_type": "code",
   "execution_count": 70,
   "id": "b4c5cf0c-d4c5-4983-8209-54d42a7213d3",
   "metadata": {},
   "outputs": [
    {
     "name": "stdout",
     "output_type": "stream",
     "text": [
      "Mean Squared Error Test: 0.004212188869886361\n",
      "Mean Absolute Error Test: 0.042264772632075225\n",
      "R-squared Test: 0.9957878111301136\n",
      "Mean Squared Error Val: 1.155239150245139\n",
      "Mean Absolute Error Val: 0.40935753614586945\n",
      "R-squared Val: -0.15523915024513935\n",
      "Mean Squared Error Train: 3.609365987046583e-06\n",
      "Mean Absolute Error Train: 0.000916377523049694\n",
      "R-squared Train: 0.9999963906340129\n"
     ]
    }
   ],
   "source": [
    "# Dictionaries to hold predictions\n",
    "predictions = {\n",
    "    'test': model.predict(test_sets1[0]),\n",
    "    'val': model.predict(field_sets1[0]),\n",
    "    'train': model.predict(train_sets1[0])\n",
    "}\n",
    "\n",
    "# Evaluating the model\n",
    "for key in ['test', 'val', 'train']:\n",
    "    mse = mean_squared_error(test_sets1[1] if key == 'test' else field_sets1[1] if key == 'val' else train_sets1[1], predictions[key])\n",
    "    mae = mean_absolute_error(test_sets1[1] if key == 'test' else field_sets1[1] if key == 'val' else train_sets1[1], predictions[key])\n",
    "    r2 = r2_score(test_sets1[1] if key == 'test' else field_sets1[1] if key == 'val' else train_sets1[1], predictions[key])\n",
    "    print(f\"Mean Squared Error {key.capitalize()}: {mse}\")\n",
    "    print(f\"Mean Absolute Error {key.capitalize()}: {mae}\")\n",
    "    print(f\"R-squared {key.capitalize()}: {r2}\")"
   ]
  },
  {
   "cell_type": "code",
   "execution_count": 73,
   "id": "561e3f2e-5bb5-41b9-a914-6dcd6504ab89",
   "metadata": {},
   "outputs": [
    {
     "data": {
      "image/png": "[encoded data removed]",
      "text/plain": [
       "<Figure size 1000x600 with 1 Axes>"
      ]
     },
     "metadata": {},
     "output_type": "display_data"
    }
   ],
   "source": [
    "# Calculate R2 scores\n",
    "\n",
    "# Make predictions on the test set\n",
    "y_pred_test = model.predict(test_sets1[0])\n",
    "y_pred_val = model.predict(field_sets1[0])\n",
    "y_pred_train = model.predict(train_sets1[0])\n",
    "\n",
    "r2_test = r2_score(test_sets1[1], y_pred_test)\n",
    "r2_val = r2_score(field_sets1[1], y_pred_val)\n",
    "r2_train = r2_score(train_sets1[1], y_pred_train)\n",
    "\n",
    "# Combine all true values and all predicted values for the diagonal plot\n",
    "all_true = np.concatenate([train_sets1[1], field_sets1[1], test_sets1[1]])\n",
    "all_pred = np.concatenate([y_pred_train, y_pred_val, y_pred_test])\n",
    "\n",
    "# Plotting the diagonal R2 score with different colors for each dataset\n",
    "plt.figure(figsize=(10, 6))\n",
    "plt.scatter(train_sets1[1], y_pred_train, alpha=0.5, label='Train', color='blue', edgecolor='k', linewidth=0.5)\n",
    "plt.scatter(field_sets1[1], y_pred_val, alpha=0.5, label='Validation', color='green', edgecolor='k', linewidth=0.5)\n",
    "plt.scatter(test_sets1[1], y_pred_test, alpha=0.5, label='Test', color='red', edgecolor='k', linewidth=0.5)\n",
    "plt.plot([all_true.min(), all_true.max()], [all_true.min(), all_true.max()], 'k--', lw=2, label='Diagonal')\n",
    "plt.xlabel('Actual',fontsize=14)\n",
    "plt.ylabel('Predicted',fontsize=14)\n",
    "#plt.title('Diagonal $R^2$ Plot (XGBoost)')\n",
    "plt.legend()\n",
    "plt.grid(True)\n",
    "# plt.savefig('Diagonal_r2_xgboost_Cd_new.png', dpi=1000)  # Uncomment this line if you want to save the plot as a PNG file\n",
    "\n",
    "# #Save the plot as a PDF file\n",
    "# plt.savefig('Diagonal_r2_xgboost_Cd_new.pdf', format='pdf', dpi=1000)\n",
    "\n",
    "plt.show()"
   ]
  },
  {
   "cell_type": "code",
   "execution_count": 26,
   "id": "92326bdb-1335-4307-a517-3aa030464d60",
   "metadata": {},
   "outputs": [
    {
     "data": {
      "text/plain": [
       "array([[-0.99596197],\n",
       "       [ 1.36748936],\n",
       "       [-0.37152739]])"
      ]
     },
     "execution_count": 26,
     "metadata": {},
     "output_type": "execute_result"
    }
   ],
   "source": [
    "field_sets1[1]"
   ]
  },
  {
   "cell_type": "code",
   "execution_count": 182,
   "id": "4464b82d-a4fa-432d-8000-56a342143933",
   "metadata": {},
   "outputs": [
    {
     "name": "stdout",
     "output_type": "stream",
     "text": [
      "Mean Squared Error Test: 0.0005070944503580215\n",
      "Mean Absolute Error Test: 0.01681243187207281\n",
      "Mean Squared Error Field: 0.3272758789824099\n",
      "Mean Absolute Error Field: 0.4001549929446682\n",
      "Mean Squared Error Train: 2.154869464739389e-05\n",
      "Mean Absolute Error Train: 0.0017720207322938044\n",
      "R-squared test: 0.9918489538726586\n",
      "R-squared Field: -0.8045994718214364\n",
      "R-squared Train: 0.9996316741738014\n"
     ]
    }
   ],
   "source": [
    "from sklearn.metrics import mean_squared_error , mean_absolute_error , r2_score\n",
    "# Make predictions on the test set\n",
    "y_pred = model.predict(test_sets1[0])\n",
    "y_pred1 = model.predict(field_sets1[0])\n",
    "y_pred2 = model.predict(train_sets1[0])\n",
    "\n",
    "# Evaluate the model\n",
    "mse = mean_squared_error(test_sets1[1], y_pred)\n",
    "mse1 = mean_squared_error(field_sets1[1], y_pred1)\n",
    "mse2 = mean_squared_error(train_sets1[1], y_pred2)\n",
    "\n",
    "\n",
    "mae = mean_absolute_error(test_sets1[1], y_pred)\n",
    "mae1 = mean_absolute_error(field_sets1[1], y_pred1)\n",
    "mae2 = mean_absolute_error(train_sets1[1], y_pred2)\n",
    "\n",
    "print(\"Mean Squared Error Test:\", mse)\n",
    "print(\"Mean Absolute Error Test:\", mae)\n",
    "\n",
    "print(\"Mean Squared Error Field:\", mse1)\n",
    "print(\"Mean Absolute Error Field:\", mae1)\n",
    "\n",
    "print(\"Mean Squared Error Train:\", mse2)\n",
    "print(\"Mean Absolute Error Train:\", mae2)\n",
    "\n",
    "\n",
    "r2 = r2_score(test_sets1[1], y_pred)\n",
    "print('R-squared test:', r2)\n",
    "r2 = r2_score(field_sets1[1], y_pred1)\n",
    "print('R-squared Field:', r2)\n",
    "r2 = r2_score(train_sets1[1], y_pred2)\n",
    "print('R-squared Train:', r2)    "
   ]
  },
  {
   "cell_type": "code",
   "execution_count": 24,
   "id": "c8e754fe-4662-4b77-b762-aeba7c87cbfd",
   "metadata": {},
   "outputs": [
    {
     "ename": "NameError",
     "evalue": "name 'y_pred1' is not defined",
     "output_type": "error",
     "traceback": [
      "\u001b[1;31m---------------------------------------------------------------------------\u001b[0m",
      "\u001b[1;31mNameError\u001b[0m                                 Traceback (most recent call last)",
      "Cell \u001b[1;32mIn[24], line 3\u001b[0m\n\u001b[0;32m      1\u001b[0m \u001b[38;5;66;03m# Compare the real values\u001b[39;00m\n\u001b[1;32m----> 3\u001b[0m real_y_pred \u001b[38;5;241m=\u001b[39m scaler_target\u001b[38;5;241m.\u001b[39minverse_transform(\u001b[43my_pred1\u001b[49m\u001b[38;5;241m.\u001b[39mreshape(\u001b[38;5;241m-\u001b[39m\u001b[38;5;241m1\u001b[39m, \u001b[38;5;241m1\u001b[39m))\n\u001b[0;32m      4\u001b[0m real_y_true \u001b[38;5;241m=\u001b[39m scaler_target\u001b[38;5;241m.\u001b[39minverse_transform(field_sets1[\u001b[38;5;241m1\u001b[39m]\u001b[38;5;241m.\u001b[39mreshape(\u001b[38;5;241m-\u001b[39m\u001b[38;5;241m1\u001b[39m, \u001b[38;5;241m1\u001b[39m))\n\u001b[0;32m      6\u001b[0m comparison_df \u001b[38;5;241m=\u001b[39m pd\u001b[38;5;241m.\u001b[39mDataFrame({\u001b[38;5;124m'\u001b[39m\u001b[38;5;124mReal Target Values\u001b[39m\u001b[38;5;124m'\u001b[39m: real_y_true\u001b[38;5;241m.\u001b[39mflatten(), \u001b[38;5;124m'\u001b[39m\u001b[38;5;124mReal Predicted Values\u001b[39m\u001b[38;5;124m'\u001b[39m: real_y_pred\u001b[38;5;241m.\u001b[39mflatten()})\n",
      "\u001b[1;31mNameError\u001b[0m: name 'y_pred1' is not defined"
     ]
    }
   ],
   "source": [
    "# Compare the real values\n",
    "\n",
    "real_y_pred = scaler_target.inverse_transform(y_pred1.reshape(-1, 1))\n",
    "real_y_true = scaler_target.inverse_transform(field_sets1[1].reshape(-1, 1))\n",
    "\n",
    "comparison_df = pd.DataFrame({'Real Target Values': real_y_true.flatten(), 'Real Predicted Values': real_y_pred.flatten()})\n",
    "print(comparison_df)"
   ]
  },
  {
   "cell_type": "code",
   "execution_count": 61,
   "id": "b729f787-321d-4669-a12e-352fa10c8be8",
   "metadata": {},
   "outputs": [],
   "source": [
    "from sklearn.metrics import accuracy_score\n",
    "from xgboost import XGBRegressor , XGBClassifier\n",
    "from sklearn.model_selection import cross_val_score\n",
    "from sklearn.model_selection import RepeatedKFold"
   ]
  },
  {
   "cell_type": "code",
   "execution_count": 148,
   "id": "9f338ee7-2450-4dc4-9b10-57d6497e17c9",
   "metadata": {},
   "outputs": [],
   "source": [
    "# create an xgboost regression model\n",
    "# model = XGBRegressor(n_estimators=100, max_depth=8, subsample = 0.80, reg_lambda = 0.7 , \n",
    "#                      learning_rate=0.4, gamma= 0,  random_state = 100)# eta=0.05 ,\n",
    "\n",
    "model_1 = XGBRegressor(n_estimators=2000, max_depth=4,  reg_lambda = 0.80 , \n",
    "                     learning_rate=0.01, gamma= 0,  random_state = 10)   "
   ]
  },
  {
   "cell_type": "code",
   "execution_count": 149,
   "id": "59c4b4e0-7480-49cd-8d84-173fdffde041",
   "metadata": {},
   "outputs": [
    {
     "data": {
      "text/html": [
       "<style>#sk-container-id-10 {color: black;background-color: white;}#sk-container-id-10 pre{padding: 0;}#sk-container-id-10 div.sk-toggleable {background-color: white;}#sk-container-id-10 label.sk-toggleable__label {cursor: pointer;display: block;width: 100%;margin-bottom: 0;padding: 0.3em;box-sizing: border-box;text-align: center;}#sk-container-id-10 label.sk-toggleable__label-arrow:before {content: \"▸\";float: left;margin-right: 0.25em;color: #696969;}#sk-container-id-10 label.sk-toggleable__label-arrow:hover:before {color: black;}#sk-container-id-10 div.sk-estimator:hover label.sk-toggleable__label-arrow:before {color: black;}#sk-container-id-10 div.sk-toggleable__content {max-height: 0;max-width: 0;overflow: hidden;text-align: left;background-color: #f0f8ff;}#sk-container-id-10 div.sk-toggleable__content pre {margin: 0.2em;color: black;border-radius: 0.25em;background-color: #f0f8ff;}#sk-container-id-10 input.sk-toggleable__control:checked~div.sk-toggleable__content {max-height: 200px;max-width: 100%;overflow: auto;}#sk-container-id-10 input.sk-toggleable__control:checked~label.sk-toggleable__label-arrow:before {content: \"▾\";}#sk-container-id-10 div.sk-estimator input.sk-toggleable__control:checked~label.sk-toggleable__label {background-color: #d4ebff;}#sk-container-id-10 div.sk-label input.sk-toggleable__control:checked~label.sk-toggleable__label {background-color: #d4ebff;}#sk-container-id-10 input.sk-hidden--visually {border: 0;clip: rect(1px 1px 1px 1px);clip: rect(1px, 1px, 1px, 1px);height: 1px;margin: -1px;overflow: hidden;padding: 0;position: absolute;width: 1px;}#sk-container-id-10 div.sk-estimator {font-family: monospace;background-color: #f0f8ff;border: 1px dotted black;border-radius: 0.25em;box-sizing: border-box;margin-bottom: 0.5em;}#sk-container-id-10 div.sk-estimator:hover {background-color: #d4ebff;}#sk-container-id-10 div.sk-parallel-item::after {content: \"\";width: 100%;border-bottom: 1px solid gray;flex-grow: 1;}#sk-container-id-10 div.sk-label:hover label.sk-toggleable__label {background-color: #d4ebff;}#sk-container-id-10 div.sk-serial::before {content: \"\";position: absolute;border-left: 1px solid gray;box-sizing: border-box;top: 0;bottom: 0;left: 50%;z-index: 0;}#sk-container-id-10 div.sk-serial {display: flex;flex-direction: column;align-items: center;background-color: white;padding-right: 0.2em;padding-left: 0.2em;position: relative;}#sk-container-id-10 div.sk-item {position: relative;z-index: 1;}#sk-container-id-10 div.sk-parallel {display: flex;align-items: stretch;justify-content: center;background-color: white;position: relative;}#sk-container-id-10 div.sk-item::before, #sk-container-id-10 div.sk-parallel-item::before {content: \"\";position: absolute;border-left: 1px solid gray;box-sizing: border-box;top: 0;bottom: 0;left: 50%;z-index: -1;}#sk-container-id-10 div.sk-parallel-item {display: flex;flex-direction: column;z-index: 1;position: relative;background-color: white;}#sk-container-id-10 div.sk-parallel-item:first-child::after {align-self: flex-end;width: 50%;}#sk-container-id-10 div.sk-parallel-item:last-child::after {align-self: flex-start;width: 50%;}#sk-container-id-10 div.sk-parallel-item:only-child::after {width: 0;}#sk-container-id-10 div.sk-dashed-wrapped {border: 1px dashed gray;margin: 0 0.4em 0.5em 0.4em;box-sizing: border-box;padding-bottom: 0.4em;background-color: white;}#sk-container-id-10 div.sk-label label {font-family: monospace;font-weight: bold;display: inline-block;line-height: 1.2em;}#sk-container-id-10 div.sk-label-container {text-align: center;}#sk-container-id-10 div.sk-container {/* jupyter's `normalize.less` sets `[hidden] { display: none; }` but bootstrap.min.css set `[hidden] { display: none !important; }` so we also need the `!important` here to be able to override the default hidden behavior on the sphinx rendered scikit-learn.org. See: https://github.com/scikit-learn/scikit-learn/issues/21755 */display: inline-block !important;position: relative;}#sk-container-id-10 div.sk-text-repr-fallback {display: none;}</style><div id=\"sk-container-id-10\" class=\"sk-top-container\"><div class=\"sk-text-repr-fallback\"><pre>XGBRegressor(base_score=None, booster=None, callbacks=None,\n",
       "             colsample_bylevel=None, colsample_bynode=None,\n",
       "             colsample_bytree=None, device=None, early_stopping_rounds=None,\n",
       "             enable_categorical=False, eval_metric=None, feature_types=None,\n",
       "             gamma=0, grow_policy=None, importance_type=None,\n",
       "             interaction_constraints=None, learning_rate=0.01, max_bin=None,\n",
       "             max_cat_threshold=None, max_cat_to_onehot=None,\n",
       "             max_delta_step=None, max_depth=4, max_leaves=None,\n",
       "             min_child_weight=None, missing=nan, monotone_constraints=None,\n",
       "             multi_strategy=None, n_estimators=2000, n_jobs=None,\n",
       "             num_parallel_tree=None, random_state=10, ...)</pre><b>In a Jupyter environment, please rerun this cell to show the HTML representation or trust the notebook. <br />On GitHub, the HTML representation is unable to render, please try loading this page with nbviewer.org.</b></div><div class=\"sk-container\" hidden><div class=\"sk-item\"><div class=\"sk-estimator sk-toggleable\"><input class=\"sk-toggleable__control sk-hidden--visually\" id=\"sk-estimator-id-10\" type=\"checkbox\" checked><label for=\"sk-estimator-id-10\" class=\"sk-toggleable__label sk-toggleable__label-arrow\">XGBRegressor</label><div class=\"sk-toggleable__content\"><pre>XGBRegressor(base_score=None, booster=None, callbacks=None,\n",
       "             colsample_bylevel=None, colsample_bynode=None,\n",
       "             colsample_bytree=None, device=None, early_stopping_rounds=None,\n",
       "             enable_categorical=False, eval_metric=None, feature_types=None,\n",
       "             gamma=0, grow_policy=None, importance_type=None,\n",
       "             interaction_constraints=None, learning_rate=0.01, max_bin=None,\n",
       "             max_cat_threshold=None, max_cat_to_onehot=None,\n",
       "             max_delta_step=None, max_depth=4, max_leaves=None,\n",
       "             min_child_weight=None, missing=nan, monotone_constraints=None,\n",
       "             multi_strategy=None, n_estimators=2000, n_jobs=None,\n",
       "             num_parallel_tree=None, random_state=10, ...)</pre></div></div></div></div></div>"
      ],
      "text/plain": [
       "XGBRegressor(base_score=None, booster=None, callbacks=None,\n",
       "             colsample_bylevel=None, colsample_bynode=None,\n",
       "             colsample_bytree=None, device=None, early_stopping_rounds=None,\n",
       "             enable_categorical=False, eval_metric=None, feature_types=None,\n",
       "             gamma=0, grow_policy=None, importance_type=None,\n",
       "             interaction_constraints=None, learning_rate=0.01, max_bin=None,\n",
       "             max_cat_threshold=None, max_cat_to_onehot=None,\n",
       "             max_delta_step=None, max_depth=4, max_leaves=None,\n",
       "             min_child_weight=None, missing=nan, monotone_constraints=None,\n",
       "             multi_strategy=None, n_estimators=2000, n_jobs=None,\n",
       "             num_parallel_tree=None, random_state=10, ...)"
      ]
     },
     "execution_count": 149,
     "metadata": {},
     "output_type": "execute_result"
    }
   ],
   "source": [
    "# fit model\n",
    "model_1.fit(train_sets1[0], train_sets1[1])"
   ]
  },
  {
   "cell_type": "code",
   "execution_count": 157,
   "id": "5d1e1a01-b483-4dfd-b783-2187cd1963e0",
   "metadata": {},
   "outputs": [
    {
     "name": "stdout",
     "output_type": "stream",
     "text": [
      "Mean Squared Error Test: 0.11009518395272831\n",
      "Mean Absolute Error Test: 0.2901876870136651\n",
      "Mean Squared Error Field: 3.706665022712586\n",
      "Mean Absolute Error Field: 1.6587773126909753\n",
      "Mean Squared Error Train: 2.2354288381830565e-06\n",
      "Mean Absolute Error Train: 0.0011625680734117054\n",
      "R-squared test: 0.8899048160472717\n",
      "R-squared Field: -2.7066650227125857\n",
      "R-squared Train: 0.9999977645711619\n"
     ]
    }
   ],
   "source": [
    "from sklearn.metrics import mean_squared_error , mean_absolute_error , r2_score\n",
    "# Make predictions on the test set\n",
    "y_pred = model_1.predict(test_sets1[0])\n",
    "y_pred1 = model_1.predict(field_sets1[0])\n",
    "y_pred2 = model_1.predict(train_sets1[0])\n",
    "\n",
    "# Evaluate the model\n",
    "mse = mean_squared_error(test_sets1[1], y_pred)\n",
    "mse1 = mean_squared_error(field_sets1[1], y_pred1)\n",
    "mse2 = mean_squared_error(train_sets1[1], y_pred2)\n",
    "\n",
    "\n",
    "mae = mean_absolute_error(test_sets1[1], y_pred)\n",
    "mae1 = mean_absolute_error(field_sets1[1], y_pred1)\n",
    "mae2 = mean_absolute_error(train_sets1[1], y_pred2)\n",
    "\n",
    "print(\"Mean Squared Error Test:\", mse)\n",
    "print(\"Mean Absolute Error Test:\", mae)\n",
    "\n",
    "print(\"Mean Squared Error Field:\", mse1)\n",
    "print(\"Mean Absolute Error Field:\", mae1)\n",
    "\n",
    "print(\"Mean Squared Error Train:\", mse2)\n",
    "print(\"Mean Absolute Error Train:\", mae2)\n",
    "\n",
    "\n",
    "r2 = r2_score(test_sets1[1], y_pred)\n",
    "print('R-squared test:', r2)\n",
    "r2 = r2_score(field_sets1[1], y_pred1)\n",
    "print('R-squared Field:', r2)\n",
    "r2 = r2_score(train_sets1[1], y_pred2)\n",
    "print('R-squared Train:', r2)   "
   ]
  },
  {
   "cell_type": "code",
   "execution_count": 158,
   "id": "c0b5b919-1033-4039-b03c-4a3d55c36d4e",
   "metadata": {},
   "outputs": [
    {
     "name": "stdout",
     "output_type": "stream",
     "text": [
      "   Real Target Values  Real Predicted Values\n",
      "0             0.00001             817.969971\n",
      "1             0.00001            1215.809326\n",
      "2             0.00001             607.257324\n",
      "3           195.00000            2034.926514\n",
      "4          1000.00000             607.257324\n",
      "5          1050.00000             607.257324\n",
      "6          1100.00000             607.257324\n"
     ]
    }
   ],
   "source": [
    "# Compare the real values\n",
    "\n",
    "real_y_pred = scaler_target.inverse_transform(y_pred1.reshape(-1, 1))\n",
    "real_y_true = scaler_target.inverse_transform(field_sets1[1].reshape(-1, 1))\n",
    "\n",
    "comparison_df = pd.DataFrame({'Real Target Values': real_y_true.flatten(), 'Real Predicted Values': real_y_pred.flatten()})\n",
    "print(comparison_df)"
   ]
  },
  {
   "cell_type": "code",
   "execution_count": null,
   "id": "78f794d3-82db-4297-8811-6875317fd474",
   "metadata": {},
   "outputs": [],
   "source": []
  },
  {
   "cell_type": "code",
   "execution_count": null,
   "id": "e52607a5-4822-41c9-8381-c6e2c4d809f1",
   "metadata": {},
   "outputs": [],
   "source": []
  }
 ],
 "metadata": {
  "kernelspec": {
   "display_name": "Python 3 (ipykernel)",
   "language": "python",
   "name": "python3"
  },
  "language_info": {
   "codemirror_mode": {
    "name": "ipython",
    "version": 3
   },
   "file_extension": ".py",
   "mimetype": "text/x-python",
   "name": "python",
   "nbconvert_exporter": "python",
   "pygments_lexer": "ipython3",
   "version": "3.11.5"
  }
 },
 "nbformat": 4,
 "nbformat_minor": 5
}
